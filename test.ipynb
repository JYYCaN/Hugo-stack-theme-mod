{
  "nbformat": 4,
  "nbformat_minor": 0,
  "metadata": {
    "colab": {
      "provenance": [],
      "gpuType": "T4",
      "authorship_tag": "ABX9TyPmKS9DyBFRe8KShztG1Xz/",
      "include_colab_link": true
    },
    "kernelspec": {
      "name": "python3",
      "display_name": "Python 3"
    },
    "language_info": {
      "name": "python"
    },
    "accelerator": "GPU"
  },
  "cells": [
    {
      "cell_type": "markdown",
      "metadata": {
        "id": "view-in-github",
        "colab_type": "text"
      },
      "source": [
        "<a href=\"https://colab.research.google.com/github/JYYCaN/Hugo-stack-theme-mod/blob/master/test.ipynb\" target=\"_parent\"><img src=\"https://colab.research.google.com/assets/colab-badge.svg\" alt=\"Open In Colab\"/></a>"
      ]
    },
    {
      "cell_type": "code",
      "source": [
        "!pip list | grep mmcv"
      ],
      "metadata": {
        "id": "eNgeB5doJPMT",
        "colab": {
          "base_uri": "https://localhost:8080/"
        },
        "outputId": "0a7bcfb8-01f0-4808-f36f-406bb792657f"
      },
      "execution_count": 3,
      "outputs": [
        {
          "output_type": "stream",
          "name": "stdout",
          "text": [
            "mmcv                                  2.2.0\n"
          ]
        }
      ]
    },
    {
      "cell_type": "code",
      "source": [
        "!pip install mmcv"
      ],
      "metadata": {
        "colab": {
          "base_uri": "https://localhost:8080/"
        },
        "id": "NQejqeAAJdAA",
        "outputId": "f6a339d1-55e5-4c25-d58f-bd4a30cc066f"
      },
      "execution_count": 2,
      "outputs": [
        {
          "output_type": "stream",
          "name": "stdout",
          "text": [
            "Collecting mmcv\n",
            "  Downloading mmcv-2.2.0.tar.gz (479 kB)\n",
            "\u001b[?25l     \u001b[90m━━━━━━━━━━━━━━━━━━━━━━━━━━━━━━━━━━━━━━━━\u001b[0m \u001b[32m0.0/479.1 kB\u001b[0m \u001b[31m?\u001b[0m eta \u001b[36m-:--:--\u001b[0m\r\u001b[2K     \u001b[91m━━━━━━━━━━━━━━━━━━━━━━━━━━━━━━━━━━━━━\u001b[0m\u001b[90m╺\u001b[0m \u001b[32m471.0/479.1 kB\u001b[0m \u001b[31m19.7 MB/s\u001b[0m eta \u001b[36m0:00:01\u001b[0m\r\u001b[2K     \u001b[90m━━━━━━━━━━━━━━━━━━━━━━━━━━━━━━━━━━━━━━\u001b[0m \u001b[32m479.1/479.1 kB\u001b[0m \u001b[31m13.0 MB/s\u001b[0m eta \u001b[36m0:00:00\u001b[0m\n",
            "\u001b[?25h  Preparing metadata (setup.py) ... \u001b[?25l\u001b[?25hdone\n",
            "Collecting addict (from mmcv)\n",
            "  Downloading addict-2.4.0-py3-none-any.whl.metadata (1.0 kB)\n",
            "Collecting mmengine>=0.3.0 (from mmcv)\n",
            "  Downloading mmengine-0.10.7-py3-none-any.whl.metadata (20 kB)\n",
            "Requirement already satisfied: numpy in /usr/local/lib/python3.11/dist-packages (from mmcv) (2.0.2)\n",
            "Requirement already satisfied: packaging in /usr/local/lib/python3.11/dist-packages (from mmcv) (24.2)\n",
            "Requirement already satisfied: Pillow in /usr/local/lib/python3.11/dist-packages (from mmcv) (11.2.1)\n",
            "Requirement already satisfied: pyyaml in /usr/local/lib/python3.11/dist-packages (from mmcv) (6.0.2)\n",
            "Collecting yapf (from mmcv)\n",
            "  Downloading yapf-0.43.0-py3-none-any.whl.metadata (46 kB)\n",
            "\u001b[2K     \u001b[90m━━━━━━━━━━━━━━━━━━━━━━━━━━━━━━━━━━━━━━━━\u001b[0m \u001b[32m46.8/46.8 kB\u001b[0m \u001b[31m3.6 MB/s\u001b[0m eta \u001b[36m0:00:00\u001b[0m\n",
            "\u001b[?25hRequirement already satisfied: matplotlib in /usr/local/lib/python3.11/dist-packages (from mmengine>=0.3.0->mmcv) (3.10.0)\n",
            "Requirement already satisfied: rich in /usr/local/lib/python3.11/dist-packages (from mmengine>=0.3.0->mmcv) (13.9.4)\n",
            "Requirement already satisfied: termcolor in /usr/local/lib/python3.11/dist-packages (from mmengine>=0.3.0->mmcv) (3.1.0)\n",
            "Requirement already satisfied: opencv-python>=3 in /usr/local/lib/python3.11/dist-packages (from mmengine>=0.3.0->mmcv) (4.11.0.86)\n",
            "Requirement already satisfied: platformdirs>=3.5.1 in /usr/local/lib/python3.11/dist-packages (from yapf->mmcv) (4.3.8)\n",
            "Requirement already satisfied: contourpy>=1.0.1 in /usr/local/lib/python3.11/dist-packages (from matplotlib->mmengine>=0.3.0->mmcv) (1.3.2)\n",
            "Requirement already satisfied: cycler>=0.10 in /usr/local/lib/python3.11/dist-packages (from matplotlib->mmengine>=0.3.0->mmcv) (0.12.1)\n",
            "Requirement already satisfied: fonttools>=4.22.0 in /usr/local/lib/python3.11/dist-packages (from matplotlib->mmengine>=0.3.0->mmcv) (4.58.5)\n",
            "Requirement already satisfied: kiwisolver>=1.3.1 in /usr/local/lib/python3.11/dist-packages (from matplotlib->mmengine>=0.3.0->mmcv) (1.4.8)\n",
            "Requirement already satisfied: pyparsing>=2.3.1 in /usr/local/lib/python3.11/dist-packages (from matplotlib->mmengine>=0.3.0->mmcv) (3.2.3)\n",
            "Requirement already satisfied: python-dateutil>=2.7 in /usr/local/lib/python3.11/dist-packages (from matplotlib->mmengine>=0.3.0->mmcv) (2.9.0.post0)\n",
            "Requirement already satisfied: markdown-it-py>=2.2.0 in /usr/local/lib/python3.11/dist-packages (from rich->mmengine>=0.3.0->mmcv) (3.0.0)\n",
            "Requirement already satisfied: pygments<3.0.0,>=2.13.0 in /usr/local/lib/python3.11/dist-packages (from rich->mmengine>=0.3.0->mmcv) (2.19.2)\n",
            "Requirement already satisfied: mdurl~=0.1 in /usr/local/lib/python3.11/dist-packages (from markdown-it-py>=2.2.0->rich->mmengine>=0.3.0->mmcv) (0.1.2)\n",
            "Requirement already satisfied: six>=1.5 in /usr/local/lib/python3.11/dist-packages (from python-dateutil>=2.7->matplotlib->mmengine>=0.3.0->mmcv) (1.17.0)\n",
            "Downloading mmengine-0.10.7-py3-none-any.whl (452 kB)\n",
            "\u001b[2K   \u001b[90m━━━━━━━━━━━━━━━━━━━━━━━━━━━━━━━━━━━━━━━━\u001b[0m \u001b[32m452.7/452.7 kB\u001b[0m \u001b[31m33.4 MB/s\u001b[0m eta \u001b[36m0:00:00\u001b[0m\n",
            "\u001b[?25hDownloading addict-2.4.0-py3-none-any.whl (3.8 kB)\n",
            "Downloading yapf-0.43.0-py3-none-any.whl (256 kB)\n",
            "\u001b[2K   \u001b[90m━━━━━━━━━━━━━━━━━━━━━━━━━━━━━━━━━━━━━━━━\u001b[0m \u001b[32m256.2/256.2 kB\u001b[0m \u001b[31m20.3 MB/s\u001b[0m eta \u001b[36m0:00:00\u001b[0m\n",
            "\u001b[?25hBuilding wheels for collected packages: mmcv\n",
            "  Building wheel for mmcv (setup.py) ... \u001b[?25l\u001b[?25hdone\n",
            "  Created wheel for mmcv: filename=mmcv-2.2.0-cp311-cp311-linux_x86_64.whl size=38326997 sha256=c3573ac1560ee7aec82809cc09ed307761a087cd82ef5814e029a3f32aacdf2c\n",
            "  Stored in directory: /root/.cache/pip/wheels/52/4f/8c/3145c780918db1a98c6c7a009a92bb1fadf2217118b25c4d53\n",
            "Successfully built mmcv\n",
            "Installing collected packages: addict, yapf, mmengine, mmcv\n",
            "Successfully installed addict-2.4.0 mmcv-2.2.0 mmengine-0.10.7 yapf-0.43.0\n"
          ]
        }
      ]
    },
    {
      "cell_type": "code",
      "source": [
        "import torch\n",
        "from mmcv.ops import modulated_deform_conv2d as mmcv_modulated_deform_conv2d\n",
        "import numpy as np\n",
        "\n",
        "def create_single_cpu_tensor(item, minvalue, maxvalue):\n",
        "    dtype = item[0]\n",
        "    format1 = item[1]\n",
        "    shape = item[2]\n",
        "    input1 = np.random.uniform(minvalue, maxvalue, shape).astype(dtype)\n",
        "    return torch.from_numpy(input1).cuda()\n",
        "\n",
        "def get_fwd_golden(x, offset, mask, weight, groups, grad_out):\n",
        "    x_cpu = x.detach().clone().cuda()\n",
        "    offset_cpu = offset.detach().clone().cuda()\n",
        "    mask_cpu = mask.detach().clone().cuda()\n",
        "    weight_cpu = weight.detach().clone().cuda()\n",
        "    x_cpu.grad, offset_cpu.grad, mask_cpu.grad, weight_cpu.grad = None, None, None, None\n",
        "\n",
        "    x_cpu.requires_grad = True\n",
        "    offset_cpu.requires_grad = True\n",
        "    mask_cpu.requires_grad = True\n",
        "    weight_cpu.requires_grad = True\n",
        "\n",
        "    out = mmcv_modulated_deform_conv2d(x_cpu, offset_cpu, mask_cpu, weight_cpu, None, 1, 1, 1, groups)\n",
        "    out.backward(grad_out, retain_graph=True)\n",
        "\n",
        "    return x_cpu.grad, offset_cpu.grad, mask_cpu.grad, weight_cpu.grad\n",
        "\n",
        "def gen_bevformer_data():\n",
        "    cases = [\n",
        "                [6, 512, 512, 3, 29, 50, 29, 50, 1],\n",
        "                [6, 256, 256, 3, 58, 100, 58, 100, 1],\n",
        "                [12, 512, 512, 3, 29, 50, 29, 50, 1],\n",
        "                [12, 256, 256, 3, 58, 100, 58, 100, 1],\n",
        "            ]\n",
        "\n",
        "    for i, case in enumerate(cases):\n",
        "        N, cIn, cOut, K, hIn, wIn, hOut, wOut, groups = case\n",
        "\n",
        "        x = create_single_cpu_tensor([np.float32, 0, (N, cIn, hIn, wIn)], -5, 5)\n",
        "        offset = create_single_cpu_tensor([np.float32, 0, (N, 2 * K * K, hOut, wOut)], -2, 2)\n",
        "        mask = create_single_cpu_tensor([np.float32, 0, (N, K * K, hOut, wOut)], -5, 5)\n",
        "        weight = create_single_cpu_tensor([np.float32, 0, (cOut, cIn // groups, K, K)], -5, 5) * 0.001\n",
        "        grad_out = create_single_cpu_tensor([np.float32, 0, (N, cIn, hOut, wOut)], -5, 5)\n",
        "\n",
        "        x_grad, offset_grad, mask_grad, weight_grad = get_fwd_golden(x, offset, mask, weight, groups, grad_out)\n",
        "\n",
        "        data = {\n",
        "            \"x\": x,\n",
        "            \"offset\": offset,\n",
        "            \"mask\": mask,\n",
        "            \"weight\": weight,\n",
        "            \"grad_out\": grad_out,\n",
        "            \"x_grad\": x_grad,\n",
        "            \"offset_grad\": offset_grad,\n",
        "            \"mask_grad\": mask_grad,\n",
        "            \"weight_grad\": weight_grad,\n",
        "            \"attr\": [N, cIn, cOut, K, hIn, wIn, hOut, wOut, groups],\n",
        "        }\n",
        "\n",
        "        torch.save(data, f\"./test_bevformer_model_case_{i}.pt\")\n",
        "\n",
        "gen_bevformer_data()"
      ],
      "metadata": {
        "id": "OZKT5ctgILln"
      },
      "execution_count": 5,
      "outputs": []
    },
    {
      "cell_type": "code",
      "source": [],
      "metadata": {
        "id": "lM8O75xsUJME"
      },
      "execution_count": null,
      "outputs": []
    }
  ]
}